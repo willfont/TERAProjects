{
 "cells": [
  {
   "cell_type": "markdown",
   "metadata": {},
   "source": [
    "# Efficient Pandas\n",
    "### Lobdata\n",
    "\n",
    "## Objetivos\n",
    "- Parte 1: Selecionando colunas e linhas de forma eficiente.\n",
    "- Parte 2: Substituindo valores em colunas do DataFrame.\n",
    "- Parte 3: Iterando no dataset de forma eficiente.\n",
    "- Parte 4: Manipulação de dados com o `.groupby`, `.transform` e `.filter`.\n",
    "\n",
    "Usaremos a Base de dados das Olimpíadas de Tokyo 2021 [Link](https://www.kaggle.com/arjunprasadsarkhel/2021-olympics-in-tokyo)\n",
    "\n"
   ]
  },
  {
   "cell_type": "code",
   "execution_count": null,
   "metadata": {},
   "outputs": [],
   "source": [
    "!pip install pyjanitor\n",
    "!pip install xlrd\n",
    "!pip install openpyxl"
   ]
  },
  {
   "cell_type": "code",
   "execution_count": 3,
   "metadata": {},
   "outputs": [],
   "source": [
    "import pandas as pd\n",
    "import numpy as np\n",
    "import time\n",
    "from janitor import clean_names"
   ]
  },
  {
   "cell_type": "code",
   "execution_count": 9,
   "metadata": {},
   "outputs": [
    {
     "name": "stderr",
     "output_type": "stream",
     "text": [
      "C:\\Users\\Danilo\\AppData\\Local\\Programs\\Python\\Python39\\lib\\site-packages\\openpyxl\\styles\\stylesheet.py:226: UserWarning: Workbook contains no default style, apply openpyxl's default\n",
      "  warn(\"Workbook contains no default style, apply openpyxl's default\")\n"
     ]
    },
    {
     "data": {
      "text/html": [
       "<div>\n",
       "<style scoped>\n",
       "    .dataframe tbody tr th:only-of-type {\n",
       "        vertical-align: middle;\n",
       "    }\n",
       "\n",
       "    .dataframe tbody tr th {\n",
       "        vertical-align: top;\n",
       "    }\n",
       "\n",
       "    .dataframe thead th {\n",
       "        text-align: right;\n",
       "    }\n",
       "</style>\n",
       "<table border=\"1\" class=\"dataframe\">\n",
       "  <thead>\n",
       "    <tr style=\"text-align: right;\">\n",
       "      <th></th>\n",
       "      <th>rank</th>\n",
       "      <th>team_noc</th>\n",
       "      <th>gold</th>\n",
       "      <th>silver</th>\n",
       "      <th>bronze</th>\n",
       "      <th>total</th>\n",
       "      <th>rank_by_total</th>\n",
       "    </tr>\n",
       "  </thead>\n",
       "  <tbody>\n",
       "    <tr>\n",
       "      <th>0</th>\n",
       "      <td>1</td>\n",
       "      <td>United States of America</td>\n",
       "      <td>39</td>\n",
       "      <td>41</td>\n",
       "      <td>33</td>\n",
       "      <td>113</td>\n",
       "      <td>1</td>\n",
       "    </tr>\n",
       "    <tr>\n",
       "      <th>1</th>\n",
       "      <td>2</td>\n",
       "      <td>People's Republic of China</td>\n",
       "      <td>38</td>\n",
       "      <td>32</td>\n",
       "      <td>18</td>\n",
       "      <td>88</td>\n",
       "      <td>2</td>\n",
       "    </tr>\n",
       "    <tr>\n",
       "      <th>2</th>\n",
       "      <td>3</td>\n",
       "      <td>Japan</td>\n",
       "      <td>27</td>\n",
       "      <td>14</td>\n",
       "      <td>17</td>\n",
       "      <td>58</td>\n",
       "      <td>5</td>\n",
       "    </tr>\n",
       "    <tr>\n",
       "      <th>3</th>\n",
       "      <td>4</td>\n",
       "      <td>Great Britain</td>\n",
       "      <td>22</td>\n",
       "      <td>21</td>\n",
       "      <td>22</td>\n",
       "      <td>65</td>\n",
       "      <td>4</td>\n",
       "    </tr>\n",
       "    <tr>\n",
       "      <th>4</th>\n",
       "      <td>5</td>\n",
       "      <td>ROC</td>\n",
       "      <td>20</td>\n",
       "      <td>28</td>\n",
       "      <td>23</td>\n",
       "      <td>71</td>\n",
       "      <td>3</td>\n",
       "    </tr>\n",
       "  </tbody>\n",
       "</table>\n",
       "</div>"
      ],
      "text/plain": [
       "   rank                    team_noc  gold  silver  bronze  total  rank_by_total\n",
       "0     1    United States of America    39      41      33    113              1\n",
       "1     2  People's Republic of China    38      32      18     88              2\n",
       "2     3                       Japan    27      14      17     58              5\n",
       "3     4               Great Britain    22      21      22     65              4\n",
       "4     5                         ROC    20      28      23     71              3"
      ]
     },
     "execution_count": 9,
     "metadata": {},
     "output_type": "execute_result"
    }
   ],
   "source": [
    "#### Importando e Limpando os dados\n",
    "\n",
    "medals_df = pd.read_excel(\"Tokyo2021_Kaggle/Medals.xlsx\").clean_names()\n",
    "\n",
    "medals_df.head()"
   ]
  },
  {
   "cell_type": "markdown",
   "metadata": {},
   "source": [
    "# Alterando os dados após importação\n",
    "\n",
    "- `.drop`: removi algumas colunas que não são necessárias nesse momento.\n",
    "- `.clean_names`: é um método do pyjanitor, que limpa o nome das colunas automaticamente.\n",
    "- `.melt`: é um pivoteamento nos dados para o formato longer, melhor para análise.\n"
   ]
  },
  {
   "cell_type": "code",
   "execution_count": 10,
   "metadata": {},
   "outputs": [
    {
     "data": {
      "text/html": [
       "<div>\n",
       "<style scoped>\n",
       "    .dataframe tbody tr th:only-of-type {\n",
       "        vertical-align: middle;\n",
       "    }\n",
       "\n",
       "    .dataframe tbody tr th {\n",
       "        vertical-align: top;\n",
       "    }\n",
       "\n",
       "    .dataframe thead th {\n",
       "        text-align: right;\n",
       "    }\n",
       "</style>\n",
       "<table border=\"1\" class=\"dataframe\">\n",
       "  <thead>\n",
       "    <tr style=\"text-align: right;\">\n",
       "      <th></th>\n",
       "      <th>rank</th>\n",
       "      <th>team_noc</th>\n",
       "      <th>gold</th>\n",
       "      <th>silver</th>\n",
       "      <th>bronze</th>\n",
       "    </tr>\n",
       "  </thead>\n",
       "  <tbody>\n",
       "    <tr>\n",
       "      <th>0</th>\n",
       "      <td>1</td>\n",
       "      <td>United States of America</td>\n",
       "      <td>39</td>\n",
       "      <td>41</td>\n",
       "      <td>33</td>\n",
       "    </tr>\n",
       "    <tr>\n",
       "      <th>1</th>\n",
       "      <td>2</td>\n",
       "      <td>People's Republic of China</td>\n",
       "      <td>38</td>\n",
       "      <td>32</td>\n",
       "      <td>18</td>\n",
       "    </tr>\n",
       "    <tr>\n",
       "      <th>2</th>\n",
       "      <td>3</td>\n",
       "      <td>Japan</td>\n",
       "      <td>27</td>\n",
       "      <td>14</td>\n",
       "      <td>17</td>\n",
       "    </tr>\n",
       "    <tr>\n",
       "      <th>3</th>\n",
       "      <td>4</td>\n",
       "      <td>Great Britain</td>\n",
       "      <td>22</td>\n",
       "      <td>21</td>\n",
       "      <td>22</td>\n",
       "    </tr>\n",
       "    <tr>\n",
       "      <th>4</th>\n",
       "      <td>5</td>\n",
       "      <td>ROC</td>\n",
       "      <td>20</td>\n",
       "      <td>28</td>\n",
       "      <td>23</td>\n",
       "    </tr>\n",
       "  </tbody>\n",
       "</table>\n",
       "</div>"
      ],
      "text/plain": [
       "   rank                    team_noc  gold  silver  bronze\n",
       "0     1    United States of America    39      41      33\n",
       "1     2  People's Republic of China    38      32      18\n",
       "2     3                       Japan    27      14      17\n",
       "3     4               Great Britain    22      21      22\n",
       "4     5                         ROC    20      28      23"
      ]
     },
     "execution_count": 10,
     "metadata": {},
     "output_type": "execute_result"
    }
   ],
   "source": [
    "#### Arrumando os dados \n",
    "\n",
    "medals_df.drop([\"total\", \"rank_by_total\"], axis=1, inplace=True)\n",
    "medals_df.head()"
   ]
  },
  {
   "cell_type": "code",
   "execution_count": 11,
   "metadata": {},
   "outputs": [
    {
     "data": {
      "text/html": [
       "<div>\n",
       "<style scoped>\n",
       "    .dataframe tbody tr th:only-of-type {\n",
       "        vertical-align: middle;\n",
       "    }\n",
       "\n",
       "    .dataframe tbody tr th {\n",
       "        vertical-align: top;\n",
       "    }\n",
       "\n",
       "    .dataframe thead th {\n",
       "        text-align: right;\n",
       "    }\n",
       "</style>\n",
       "<table border=\"1\" class=\"dataframe\">\n",
       "  <thead>\n",
       "    <tr style=\"text-align: right;\">\n",
       "      <th></th>\n",
       "      <th>rank</th>\n",
       "      <th>team_noc</th>\n",
       "      <th>medals</th>\n",
       "      <th>qtt</th>\n",
       "    </tr>\n",
       "  </thead>\n",
       "  <tbody>\n",
       "    <tr>\n",
       "      <th>0</th>\n",
       "      <td>1</td>\n",
       "      <td>United States of America</td>\n",
       "      <td>gold</td>\n",
       "      <td>39</td>\n",
       "    </tr>\n",
       "    <tr>\n",
       "      <th>1</th>\n",
       "      <td>2</td>\n",
       "      <td>People's Republic of China</td>\n",
       "      <td>gold</td>\n",
       "      <td>38</td>\n",
       "    </tr>\n",
       "    <tr>\n",
       "      <th>2</th>\n",
       "      <td>3</td>\n",
       "      <td>Japan</td>\n",
       "      <td>gold</td>\n",
       "      <td>27</td>\n",
       "    </tr>\n",
       "    <tr>\n",
       "      <th>3</th>\n",
       "      <td>4</td>\n",
       "      <td>Great Britain</td>\n",
       "      <td>gold</td>\n",
       "      <td>22</td>\n",
       "    </tr>\n",
       "    <tr>\n",
       "      <th>4</th>\n",
       "      <td>5</td>\n",
       "      <td>ROC</td>\n",
       "      <td>gold</td>\n",
       "      <td>20</td>\n",
       "    </tr>\n",
       "  </tbody>\n",
       "</table>\n",
       "</div>"
      ],
      "text/plain": [
       "   rank                    team_noc medals  qtt\n",
       "0     1    United States of America   gold   39\n",
       "1     2  People's Republic of China   gold   38\n",
       "2     3                       Japan   gold   27\n",
       "3     4               Great Britain   gold   22\n",
       "4     5                         ROC   gold   20"
      ]
     },
     "execution_count": 11,
     "metadata": {},
     "output_type": "execute_result"
    }
   ],
   "source": [
    "medals_reshaped_df = medals_df.melt(\n",
    "    id_vars=[\"rank\", \"team_noc\"],\n",
    "    value_vars=[\"gold\", \"silver\", \"bronze\"],\n",
    "    var_name=\"medals\",\n",
    "    value_name=\"qtt\",\n",
    ")\n",
    "medals_reshaped_df.head()"
   ]
  },
  {
   "cell_type": "markdown",
   "metadata": {},
   "source": [
    "# Função para auxiliar o exercício\n",
    "\n",
    "## A função será para fazer comparações entre os métodos\n",
    "\n",
    "A função utiliza-se de um input onde inserimos os tempos gastos em cada método"
   ]
  },
  {
   "cell_type": "code",
   "execution_count": 14,
   "metadata": {},
   "outputs": [],
   "source": [
    "# helper function to calculate pct diff between the times\n",
    "def calculate_how_much_diff(method_1: float, method_2: float) -> str:\n",
    "    diff = method_2 / method_1\n",
    "\n",
    "    if diff > 1:\n",
    "        ans = f\"Método 1 é {round(diff*100, 2)}% vezes mais rápido que o Método 2\"\n",
    "    elif diff < 1:\n",
    "        new_diff = method_1 / method_2\n",
    "        ans = f\"Método 2 é {round(new_diff*100, 2)}% vezes mais rápido que o Método 1\"\n",
    "\n",
    "    return ans"
   ]
  },
  {
   "cell_type": "markdown",
   "metadata": {},
   "source": [
    "# Parte I: Selecionando colunas e linhas de forma eficiente\n",
    "\n",
    "## .iloc e .loc\n",
    "\n",
    "Essa é uma tarefa bem comum utilizada com `DataFrames` do Pandas, muitas vezes precisamos selecionar apenas uma porção dos dados, seja por colunas, seja por linhas. É ae que entra a utilização dos métodos `.iloc` e `.loc`.\n",
    "\n",
    "- `.iloc`: Localizador numérico\n",
    "- `.loc`: Localizador nominal"
   ]
  },
  {
   "cell_type": "code",
   "execution_count": 15,
   "metadata": {},
   "outputs": [
    {
     "data": {
      "text/plain": [
       "'Método 2 é 101.78% vezes mais rápido que o Método 1'"
      ]
     },
     "execution_count": 15,
     "metadata": {},
     "output_type": "execute_result"
    }
   ],
   "source": [
    "# .loc time\n",
    "\n",
    "start_time = time.time()\n",
    "medals_reshaped_df.loc[:, [\"team_noc\", \"medals\", \"qtt\"]]\n",
    "delta_loc = time.time() - start_time\n",
    "\n",
    "# .iloc time\n",
    "\n",
    "start_time = time.time()\n",
    "medals_reshaped_df.iloc[:, [1, 2, 3]]\n",
    "delta_iloc = time.time() - start_time\n",
    "\n",
    "# who is faster?\n",
    "calculate_how_much_diff(method_1=delta_loc, method_2=delta_iloc)"
   ]
  },
  {
   "cell_type": "markdown",
   "metadata": {},
   "source": [
    "## O método `.iloc` é mais eficiente tanto para colunas quanto para linhas"
   ]
  },
  {
   "cell_type": "markdown",
   "metadata": {},
   "source": [
    "# AMOSTRAGEM ALEATÓRIA\n",
    "\n",
    "- utilizar o módulo do numpy de geração de números randômicos e aplicar ao `DataFrame`\n",
    "- utilizar o método `.sample` do Pandas"
   ]
  },
  {
   "cell_type": "code",
   "execution_count": 46,
   "metadata": {},
   "outputs": [
    {
     "data": {
      "text/html": [
       "<div>\n",
       "<style scoped>\n",
       "    .dataframe tbody tr th:only-of-type {\n",
       "        vertical-align: middle;\n",
       "    }\n",
       "\n",
       "    .dataframe tbody tr th {\n",
       "        vertical-align: top;\n",
       "    }\n",
       "\n",
       "    .dataframe thead th {\n",
       "        text-align: right;\n",
       "    }\n",
       "</style>\n",
       "<table border=\"1\" class=\"dataframe\">\n",
       "  <thead>\n",
       "    <tr style=\"text-align: right;\">\n",
       "      <th></th>\n",
       "      <th>rank</th>\n",
       "      <th>team_noc</th>\n",
       "      <th>medals</th>\n",
       "      <th>qtt</th>\n",
       "    </tr>\n",
       "  </thead>\n",
       "  <tbody>\n",
       "    <tr>\n",
       "      <th>87</th>\n",
       "      <td>86</td>\n",
       "      <td>Côte d'Ivoire</td>\n",
       "      <td>gold</td>\n",
       "      <td>0</td>\n",
       "    </tr>\n",
       "    <tr>\n",
       "      <th>204</th>\n",
       "      <td>19</td>\n",
       "      <td>Kenya</td>\n",
       "      <td>bronze</td>\n",
       "      <td>2</td>\n",
       "    </tr>\n",
       "    <tr>\n",
       "      <th>153</th>\n",
       "      <td>59</td>\n",
       "      <td>Latvia</td>\n",
       "      <td>silver</td>\n",
       "      <td>0</td>\n",
       "    </tr>\n",
       "    <tr>\n",
       "      <th>80</th>\n",
       "      <td>77</td>\n",
       "      <td>Namibia</td>\n",
       "      <td>gold</td>\n",
       "      <td>0</td>\n",
       "    </tr>\n",
       "    <tr>\n",
       "      <th>246</th>\n",
       "      <td>59</td>\n",
       "      <td>Latvia</td>\n",
       "      <td>bronze</td>\n",
       "      <td>1</td>\n",
       "    </tr>\n",
       "    <tr>\n",
       "      <th>161</th>\n",
       "      <td>69</td>\n",
       "      <td>Armenia</td>\n",
       "      <td>silver</td>\n",
       "      <td>2</td>\n",
       "    </tr>\n",
       "    <tr>\n",
       "      <th>132</th>\n",
       "      <td>39</td>\n",
       "      <td>Israel</td>\n",
       "      <td>silver</td>\n",
       "      <td>0</td>\n",
       "    </tr>\n",
       "    <tr>\n",
       "      <th>198</th>\n",
       "      <td>13</td>\n",
       "      <td>New Zealand</td>\n",
       "      <td>bronze</td>\n",
       "      <td>7</td>\n",
       "    </tr>\n",
       "    <tr>\n",
       "      <th>246</th>\n",
       "      <td>59</td>\n",
       "      <td>Latvia</td>\n",
       "      <td>bronze</td>\n",
       "      <td>1</td>\n",
       "    </tr>\n",
       "    <tr>\n",
       "      <th>258</th>\n",
       "      <td>72</td>\n",
       "      <td>San Marino</td>\n",
       "      <td>bronze</td>\n",
       "      <td>2</td>\n",
       "    </tr>\n",
       "  </tbody>\n",
       "</table>\n",
       "</div>"
      ],
      "text/plain": [
       "     rank       team_noc  medals  qtt\n",
       "87     86  Côte d'Ivoire    gold    0\n",
       "204    19          Kenya  bronze    2\n",
       "153    59         Latvia  silver    0\n",
       "80     77        Namibia    gold    0\n",
       "246    59         Latvia  bronze    1\n",
       "161    69        Armenia  silver    2\n",
       "132    39         Israel  silver    0\n",
       "198    13    New Zealand  bronze    7\n",
       "246    59         Latvia  bronze    1\n",
       "258    72     San Marino  bronze    2"
      ]
     },
     "execution_count": 46,
     "metadata": {},
     "output_type": "execute_result"
    }
   ],
   "source": [
    "### Como pegar valores aleatórios em um intervalo de linhas determinado por low e high\n",
    "\n",
    "medals_reshaped_df.iloc[np.random.randint(low=0, high=medals_reshaped_df.shape[0], size=10), :]\n"
   ]
  },
  {
   "cell_type": "code",
   "execution_count": 45,
   "metadata": {},
   "outputs": [
    {
     "data": {
      "text/html": [
       "<div>\n",
       "<style scoped>\n",
       "    .dataframe tbody tr th:only-of-type {\n",
       "        vertical-align: middle;\n",
       "    }\n",
       "\n",
       "    .dataframe tbody tr th {\n",
       "        vertical-align: top;\n",
       "    }\n",
       "\n",
       "    .dataframe thead th {\n",
       "        text-align: right;\n",
       "    }\n",
       "</style>\n",
       "<table border=\"1\" class=\"dataframe\">\n",
       "  <thead>\n",
       "    <tr style=\"text-align: right;\">\n",
       "      <th></th>\n",
       "      <th>rank</th>\n",
       "      <th>team_noc</th>\n",
       "      <th>medals</th>\n",
       "      <th>qtt</th>\n",
       "    </tr>\n",
       "  </thead>\n",
       "  <tbody>\n",
       "    <tr>\n",
       "      <th>78</th>\n",
       "      <td>77</td>\n",
       "      <td>Lithuania</td>\n",
       "      <td>gold</td>\n",
       "      <td>0</td>\n",
       "    </tr>\n",
       "    <tr>\n",
       "      <th>186</th>\n",
       "      <td>1</td>\n",
       "      <td>United States of America</td>\n",
       "      <td>bronze</td>\n",
       "      <td>33</td>\n",
       "    </tr>\n",
       "    <tr>\n",
       "      <th>197</th>\n",
       "      <td>12</td>\n",
       "      <td>Brazil</td>\n",
       "      <td>bronze</td>\n",
       "      <td>8</td>\n",
       "    </tr>\n",
       "    <tr>\n",
       "      <th>3</th>\n",
       "      <td>4</td>\n",
       "      <td>Great Britain</td>\n",
       "      <td>gold</td>\n",
       "      <td>22</td>\n",
       "    </tr>\n",
       "    <tr>\n",
       "      <th>272</th>\n",
       "      <td>86</td>\n",
       "      <td>Burkina Faso</td>\n",
       "      <td>bronze</td>\n",
       "      <td>1</td>\n",
       "    </tr>\n",
       "    <tr>\n",
       "      <th>253</th>\n",
       "      <td>68</td>\n",
       "      <td>Dominican Republic</td>\n",
       "      <td>bronze</td>\n",
       "      <td>2</td>\n",
       "    </tr>\n",
       "    <tr>\n",
       "      <th>252</th>\n",
       "      <td>67</td>\n",
       "      <td>Azerbaijan</td>\n",
       "      <td>bronze</td>\n",
       "      <td>4</td>\n",
       "    </tr>\n",
       "    <tr>\n",
       "      <th>241</th>\n",
       "      <td>56</td>\n",
       "      <td>Ethiopia</td>\n",
       "      <td>bronze</td>\n",
       "      <td>2</td>\n",
       "    </tr>\n",
       "    <tr>\n",
       "      <th>145</th>\n",
       "      <td>53</td>\n",
       "      <td>Austria</td>\n",
       "      <td>silver</td>\n",
       "      <td>1</td>\n",
       "    </tr>\n",
       "    <tr>\n",
       "      <th>185</th>\n",
       "      <td>86</td>\n",
       "      <td>Syrian Arab Republic</td>\n",
       "      <td>silver</td>\n",
       "      <td>0</td>\n",
       "    </tr>\n",
       "  </tbody>\n",
       "</table>\n",
       "</div>"
      ],
      "text/plain": [
       "     rank                  team_noc  medals  qtt\n",
       "78     77                 Lithuania    gold    0\n",
       "186     1  United States of America  bronze   33\n",
       "197    12                    Brazil  bronze    8\n",
       "3       4             Great Britain    gold   22\n",
       "272    86              Burkina Faso  bronze    1\n",
       "253    68        Dominican Republic  bronze    2\n",
       "252    67                Azerbaijan  bronze    4\n",
       "241    56                  Ethiopia  bronze    2\n",
       "145    53                   Austria  silver    1\n",
       "185    86      Syrian Arab Republic  silver    0"
      ]
     },
     "execution_count": 45,
     "metadata": {},
     "output_type": "execute_result"
    }
   ],
   "source": [
    "medals_reshaped_df.sample(10, axis=0)"
   ]
  },
  {
   "cell_type": "code",
   "execution_count": 47,
   "metadata": {},
   "outputs": [
    {
     "data": {
      "text/plain": [
       "'Método 2 é 199.52% vezes mais rápido que o Método 1'"
      ]
     },
     "execution_count": 47,
     "metadata": {},
     "output_type": "execute_result"
    }
   ],
   "source": [
    "### Testando a velocidade entre os dois métodos de selecionar aleatóriamente\n",
    "\n",
    "# numpy random integers\n",
    "start_time = time.time()\n",
    "medals_reshaped_df.iloc[np.random.randint(low=0, high=medals_reshaped_df.shape[0], size=50), :]\n",
    "delta_numpy = time.time() - start_time\n",
    "\n",
    "# using .sample\n",
    "start_time = time.time()\n",
    "medals_reshaped_df.sample(50, axis=0)\n",
    "delta_sample = time.time() - start_time\n",
    "\n",
    "# who is faster?\n",
    "calculate_how_much_diff(method_1=delta_numpy, method_2=delta_sample)"
   ]
  },
  {
   "cell_type": "markdown",
   "metadata": {},
   "source": [
    "## Com isso nós finalizamos a Parte I dessa série de tutoriais, e em resumo temos o seguinte:\n",
    "\n",
    "- `.iloc` é mais rápido que `.loc`\n",
    "- `.iloc` é mais rápido que selecionar diretamente as colunas\n",
    "- `.sample` é mais rápido utilizar numpy para gerar um array de números aleatórios"
   ]
  },
  {
   "cell_type": "markdown",
   "metadata": {},
   "source": [
    "# Parte II: Substituindo valores em colunas do dataset\n",
    "\n",
    "## Substituindo valores únicos utilizando o `.replace`"
   ]
  },
  {
   "cell_type": "code",
   "execution_count": 48,
   "metadata": {},
   "outputs": [
    {
     "name": "stderr",
     "output_type": "stream",
     "text": [
      "C:\\Users\\Danilo\\AppData\\Local\\Programs\\Python\\Python39\\lib\\site-packages\\pandas\\core\\indexing.py:1732: SettingWithCopyWarning: \n",
      "A value is trying to be set on a copy of a slice from a DataFrame\n",
      "\n",
      "See the caveats in the documentation: https://pandas.pydata.org/pandas-docs/stable/user_guide/indexing.html#returning-a-view-versus-a-copy\n",
      "  self._setitem_single_block(indexer, value, name)\n"
     ]
    },
    {
     "data": {
      "text/plain": [
       "'Método 2 é 6494.43% vezes mais rápido que o Método 1'"
      ]
     },
     "execution_count": 48,
     "metadata": {},
     "output_type": "execute_result"
    }
   ],
   "source": [
    "# pure Pandas\n",
    "medals_reshaped_replace_pd_df = medals_reshaped_df.copy()\n",
    "start_time = time.time()\n",
    "medals_reshaped_replace_pd_df.medals.loc[medals_reshaped_replace_pd_df.medals==\"gold\"] = 'Gold'\n",
    "delta_pure_pandas = time.time() - start_time\n",
    "\n",
    "# using .replace\n",
    "medals_reshaped_replace_df = medals_reshaped_df.copy()\n",
    "start_time = time.time()\n",
    "medals_reshaped_replace_df[\"medals\"].replace(\"gold\", \"Gold\")  # adjusting the axis = 1 for columns\n",
    "delta_replace = time.time() - start_time\n",
    "\n",
    "# who is faster?\n",
    "calculate_how_much_diff(method_1=delta_pure_pandas, method_2=delta_replace)"
   ]
  },
  {
   "cell_type": "markdown",
   "metadata": {},
   "source": [
    "## Substituindo múltiplos valores com listas e dicionários\n"
   ]
  },
  {
   "cell_type": "code",
   "execution_count": 66,
   "metadata": {},
   "outputs": [
    {
     "data": {
      "text/plain": [
       "1      TOP 3\n",
       "2      TOP 3\n",
       "3     OUTRAS\n",
       "4     OUTRAS\n",
       "5     OUTRAS\n",
       "6     OUTRAS\n",
       "7     OUTRAS\n",
       "8     OUTRAS\n",
       "9     OUTRAS\n",
       "10    OUTRAS\n",
       "Name: rank, dtype: object"
      ]
     },
     "execution_count": 66,
     "metadata": {},
     "output_type": "execute_result"
    }
   ],
   "source": [
    "#### Substituindo valores usando operações puras do Pandas\n",
    "\n",
    "medals_reshaped_replace_pd_df = medals_reshaped_df.copy()\n",
    "\n",
    "medals_reshaped_replace_pd_df[\"rank\"].loc[\n",
    "    (medals_reshaped_replace_pd_df[\"rank\"] == 1)\n",
    "    | (medals_reshaped_replace_pd_df[\"rank\"] == 2)\n",
    "    | (medals_reshaped_replace_pd_df[\"rank\"] == 3)\n",
    "] = \"TOP 3\"\n",
    "\n",
    "medals_reshaped_replace_pd_df[\"rank\"].loc[\n",
    "    (medals_reshaped_replace_pd_df[\"rank\"] != \"TOP 3\")\n",
    "] = \"OUTRAS\"\n",
    "\n",
    "medals_reshaped_replace_pd_df.loc[1:10,\"rank\"]"
   ]
  },
  {
   "cell_type": "code",
   "execution_count": 63,
   "metadata": {},
   "outputs": [
    {
     "data": {
      "text/plain": [
       "1      TOP 3\n",
       "2      TOP 3\n",
       "3     OUTRAS\n",
       "4     OUTRAS\n",
       "5     OUTRAS\n",
       "6     OUTRAS\n",
       "7     OUTRAS\n",
       "8     OUTRAS\n",
       "9     OUTRAS\n",
       "10    OUTRAS\n",
       "Name: rank, dtype: object"
      ]
     },
     "execution_count": 63,
     "metadata": {},
     "output_type": "execute_result"
    }
   ],
   "source": [
    "### Substituindo usando pandas, .replace() e listas []\n",
    "\n",
    "medals_reshaped_replace_df = medals_reshaped_df.copy()\n",
    "\n",
    "max_rank = medals_reshaped_replace_df[\"rank\"].max()\n",
    "medals_reshaped_replace_df[\"rank\"].replace(\n",
    "    [[1, 2, 3], [range(4, max_rank + 1)]], [\"TOP 3\", \"OUTRAS\"], inplace=True\n",
    ")\n",
    "medals_reshaped_replace_df.loc[1:10,\"rank\"]"
   ]
  },
  {
   "cell_type": "code",
   "execution_count": 70,
   "metadata": {},
   "outputs": [
    {
     "data": {
      "text/plain": [
       "0     Gold\n",
       "1     Gold\n",
       "2     Gold\n",
       "3     Gold\n",
       "4     Gold\n",
       "5     Gold\n",
       "6     Gold\n",
       "7     Gold\n",
       "8     Gold\n",
       "9     Gold\n",
       "10    Gold\n",
       "Name: medals, dtype: object"
      ]
     },
     "execution_count": 70,
     "metadata": {},
     "output_type": "execute_result"
    }
   ],
   "source": [
    "### Substituindo valores utilizando Pandas .replace() e Dicionários {}\n",
    "\n",
    "medals_reshaped_replace_df = medals_reshaped_df.copy()\n",
    "\n",
    "medals_reshaped_replace_df[\"medals\"].replace(\n",
    "    {\"gold\": \"Gold\", \"silver\": \"Silver\", \"bronze\": \"Bronze\"}, inplace=True\n",
    ")\n",
    "\n",
    "medals_reshaped_replace_df.loc[:10, \"medals\"]"
   ]
  },
  {
   "cell_type": "markdown",
   "metadata": {},
   "source": [
    "# FIM"
   ]
  }
 ],
 "metadata": {
  "interpreter": {
   "hash": "90a960bae883613342b79d9d13907d323e145dfd96bd43bab998425e5dc2caf6"
  },
  "kernelspec": {
   "display_name": "Python 3.9.6 64-bit",
   "language": "python",
   "name": "python3"
  },
  "language_info": {
   "codemirror_mode": {
    "name": "ipython",
    "version": 3
   },
   "file_extension": ".py",
   "mimetype": "text/x-python",
   "name": "python",
   "nbconvert_exporter": "python",
   "pygments_lexer": "ipython3",
   "version": "3.9.6"
  },
  "orig_nbformat": 4
 },
 "nbformat": 4,
 "nbformat_minor": 2
}
